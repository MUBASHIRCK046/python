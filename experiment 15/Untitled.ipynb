{
 "cells": [
  {
   "cell_type": "code",
   "execution_count": null,
   "id": "1aa3ad00-ce71-4b7e-8010-a62d534e2e85",
   "metadata": {},
   "outputs": [],
   "source": [
    "class Rectangle:\n",
    "    def __init__(self, l, b):\n",
    "        self.l = l\n",
    "        self.b = b\n",
    "    def area(self):\n",
    "        return self.l * self.b\n",
    "    def perimeter(self):\n",
    "        return 2 * (self.l + self.b)"
   ]
  },
  {
   "cell_type": "code",
   "execution_count": 17,
   "id": "34ddbf7b-905d-4667-b6d7-be988a20cab2",
   "metadata": {},
   "outputs": [
    {
     "name": "stdin",
     "output_type": "stream",
     "text": [
      "Enter length of Rectangle 1:  12\n",
      "Enter breadth of Rectangle 1:  12\n",
      "Enter length of Rectangle 2:  3\n",
      "Enter breadth of Rectangle 2:  65\n"
     ]
    },
    {
     "name": "stdout",
     "output_type": "stream",
     "text": [
      "Area of Rectangle 1: 144\n",
      "Area of Rectangle 2: 195\n",
      "pri of Rectangle 1: 48\n",
      "pri of Rectangle 2: 136\n",
      "Rectangles 2 is greater\n"
     ]
    }
   ],
   "source": [
    "class Rectangle:\n",
    "    def get(self, l, b):\n",
    "        self.l = l\n",
    "        self.b = b\n",
    "    def area(self):\n",
    "        return self.l * self.b\n",
    "    def perimeter(self):\n",
    "        return 2 * (self.l + self.b)\n",
    "r1 = Rectangle()\n",
    "r2 = Rectangle()\n",
    "l1 = int(input(\"Enter length of Rectangle 1: \"))\n",
    "b1 = int(input(\"Enter breadth of Rectangle 1: \"))\n",
    "l2 = int(input(\"Enter length of Rectangle 2: \"))\n",
    "b2 = int(input(\"Enter breadth of Rectangle 2: \"))\n",
    "r1.get(l1, b1)\n",
    "r2.get(l2, b2)\n",
    "print(\"Area of Rectangle 1:\",r1.area())\n",
    "print(\"Area of Rectangle 2:\",r2.area())\n",
    "print(\"pri of Rectangle 1:\",r1.perimeter())\n",
    "print(\"pri of Rectangle 2:\",r2.perimeter())\n",
    "if r1.area()>r2.area():\n",
    "    print(\"Rectangle 1 is greater\")\n",
    "else:\n",
    "    print(\"Rectangles 2 is greater\")\n"
   ]
  },
  {
   "cell_type": "code",
   "execution_count": null,
   "id": "34c61d11-60e6-4d91-91e7-b21bf67acacc",
   "metadata": {},
   "outputs": [],
   "source": []
  }
 ],
 "metadata": {
  "kernelspec": {
   "display_name": "Python 3 (ipykernel)",
   "language": "python",
   "name": "python3"
  },
  "language_info": {
   "codemirror_mode": {
    "name": "ipython",
    "version": 3
   },
   "file_extension": ".py",
   "mimetype": "text/x-python",
   "name": "python",
   "nbconvert_exporter": "python",
   "pygments_lexer": "ipython3",
   "version": "3.11.5"
  }
 },
 "nbformat": 4,
 "nbformat_minor": 5
}
