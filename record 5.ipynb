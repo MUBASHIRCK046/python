{
 "cells": [
  {
   "cell_type": "code",
   "execution_count": 1,
   "id": "24effba4-6859-4f81-b85a-cae6afe84589",
   "metadata": {},
   "outputs": [
    {
     "name": "stdin",
     "output_type": "stream",
     "text": [
      "enter the string mubashir\n"
     ]
    },
    {
     "name": "stdout",
     "output_type": "stream",
     "text": [
      "converted string is rubashim\n"
     ]
    }
   ],
   "source": [
    "# reverse string \n",
    "s=str(input(\"enter the string\"))\n",
    "rev=s[-1]+s[1:-1]+s[0]\n",
    "print (\"converted string is\",rev)"
   ]
  },
  {
   "cell_type": "code",
   "execution_count": 38,
   "id": "eed9a677-8fef-40b8-8878-3c087c26e528",
   "metadata": {},
   "outputs": [
    {
     "name": "stdin",
     "output_type": "stream",
     "text": [
      "Enter first string:  mubashir\n",
      "Enter second string:  ck\n"
     ]
    },
    {
     "name": "stdout",
     "output_type": "stream",
     "text": [
      "Combined string with swapped first 2 chars: ckbashir mu\n"
     ]
    }
   ],
   "source": [
    "s1 = input(\"Enter first string: \")\n",
    "s2 = input(\"Enter second string: \")\n",
    "a = s2[:2] + s1[2:]\n",
    "b = s1[:2] + s2[2:]\n",
    "print(\"Combined string with swapped first 2 chars:\", a + ' ' + b)\n"
   ]
  },
  {
   "cell_type": "code",
   "execution_count": 39,
   "id": "2c27e80c-bd28-4059-a686-300bdc765ebf",
   "metadata": {},
   "outputs": [
    {
     "name": "stdin",
     "output_type": "stream",
     "text": [
      "Enter a string:  mubashir\n"
     ]
    },
    {
     "name": "stdout",
     "output_type": "stream",
     "text": [
      "String after exchanging first and last chars: rubashim\n"
     ]
    }
   ],
   "source": [
    "s = input(\"Enter a string: \")\n",
    "result = s[-1] + s[1:-1] + s[0]\n",
    "print(\"String after exchanging first and last chars:\", result)\n"
   ]
  },
  {
   "cell_type": "code",
   "execution_count": 40,
   "id": "3cdac9aa-ef52-4d2e-9828-cf2a04315389",
   "metadata": {},
   "outputs": [
    {
     "name": "stdin",
     "output_type": "stream",
     "text": [
      "Enter a string:  mubashur\n"
     ]
    },
    {
     "name": "stdout",
     "output_type": "stream",
     "text": [
      "String made of first 2 and last 2 chars: muur\n"
     ]
    }
   ],
   "source": [
    "s = input(\"Enter a string: \")\n",
    "result = (s[:2] + s[-2:]) if len(s) >= 2 else \"\"\n",
    "print(\"String made of first 2 and last 2 chars:\", result)\n"
   ]
  },
  {
   "cell_type": "code",
   "execution_count": 30,
   "id": "f8af5d9e-68c8-4a73-bed4-387dbde6175e",
   "metadata": {},
   "outputs": [
    {
     "name": "stdin",
     "output_type": "stream",
     "text": [
      "Enter a string:  oniom\n"
     ]
    },
    {
     "name": "stdout",
     "output_type": "stream",
     "text": [
      "String after change: oni$m\n"
     ]
    }
   ],
   "source": [
    "# python program to get a string from a given string its first char have been changed to $ ,except the first char  \n",
    "s = input(\"Enter a string: \")\n",
    "first_char = s [0]\n",
    "result = first_char + s[1:].replace(first_char, '$')\n",
    "print(\"String after change:\", result)\n",
    "\n"
   ]
  },
  {
   "cell_type": "code",
   "execution_count": null,
   "id": "5ff22249-9b3d-4bfb-9ed1-e54e510e8730",
   "metadata": {},
   "outputs": [],
   "source": []
  }
 ],
 "metadata": {
  "kernelspec": {
   "display_name": "Python 3 (ipykernel)",
   "language": "python",
   "name": "python3"
  },
  "language_info": {
   "codemirror_mode": {
    "name": "ipython",
    "version": 3
   },
   "file_extension": ".py",
   "mimetype": "text/x-python",
   "name": "python",
   "nbconvert_exporter": "python",
   "pygments_lexer": "ipython3",
   "version": "3.11.5"
  }
 },
 "nbformat": 4,
 "nbformat_minor": 5
}
