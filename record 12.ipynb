{
 "cells": [
  {
   "cell_type": "code",
   "execution_count": 1,
   "id": "9b2c0b29-0854-48a1-a3be-65dc8849d31d",
   "metadata": {},
   "outputs": [
    {
     "name": "stdin",
     "output_type": "stream",
     "text": [
      "Enter some integer numbers: 1,2,3\n"
     ]
    },
    {
     "name": "stdout",
     "output_type": "stream",
     "text": [
      "positive numbers: [1, 2, 3]\n"
     ]
    }
   ],
   "source": [
    "#list comprehensions\n",
    "numbers=list(map(int,input(\"Enter some integer numbers:\").split(\",\")))\n",
    "positive_num=[x for x in numbers if x>0]\n",
    "print(\"positive numbers:\",positive_num)\n"
   ]
  },
  {
   "cell_type": "code",
   "execution_count": 2,
   "id": "637a391b-6dd5-4ece-a854-58f58097cbff",
   "metadata": {},
   "outputs": [
    {
     "name": "stdin",
     "output_type": "stream",
     "text": [
      "Enter numbers :  2 8 9\n"
     ]
    },
    {
     "name": "stdout",
     "output_type": "stream",
     "text": [
      "Squares: [4, 64, 81]\n"
     ]
    }
   ],
   "source": [
    "# Square of n numbers\n",
    "numbers = list(map(int, input(\"Enter numbers : \").split()))\n",
    "squares = [i**2 for i in numbers]\n",
    "print(\"Squares:\", squares)\n"
   ]
  },
  {
   "cell_type": "code",
   "execution_count": 3,
   "id": "403f9f19-209a-44c9-9a9f-db0c6cd64cd3",
   "metadata": {},
   "outputs": [
    {
     "name": "stdin",
     "output_type": "stream",
     "text": [
      "Enter a word:  mubashir\n"
     ]
    },
    {
     "name": "stdout",
     "output_type": "stream",
     "text": [
      "Vowels in the word: ['u', 'a', 'i']\n"
     ]
    }
   ],
   "source": [
    "# Extract vowels from a word\n",
    "word = input(\"Enter a word: \").lower() \n",
    "vowels = \"aeiou\"\n",
    "vowel_list = [char for char in word if char in vowels]\n",
    "print(\"Vowels in the word:\", vowel_list)\n"
   ]
  },
  {
   "cell_type": "code",
   "execution_count": 6,
   "id": "9179b5c1-f80c-4c20-862e-4ea67951e319",
   "metadata": {},
   "outputs": [
    {
     "name": "stdin",
     "output_type": "stream",
     "text": [
      "Enter a word:  PYTHON\n"
     ]
    },
    {
     "name": "stdout",
     "output_type": "stream",
     "text": [
      "Ordinal values: [80, 89, 84, 72, 79, 78]\n"
     ]
    }
   ],
   "source": [
    "# Ordinal value of each character in a word\n",
    "word = input(\"Enter a word: \")\n",
    "ordinal_values = [ord(char) for char in word]\n",
    "print(\"Ordinal values:\", ordinal_values)\n"
   ]
  },
  {
   "cell_type": "code",
   "execution_count": null,
   "id": "97b30c89-e184-4979-bf90-3c6e37c58545",
   "metadata": {},
   "outputs": [],
   "source": []
  }
 ],
 "metadata": {
  "kernelspec": {
   "display_name": "Python 3 (ipykernel)",
   "language": "python",
   "name": "python3"
  },
  "language_info": {
   "codemirror_mode": {
    "name": "ipython",
    "version": 3
   },
   "file_extension": ".py",
   "mimetype": "text/x-python",
   "name": "python",
   "nbconvert_exporter": "python",
   "pygments_lexer": "ipython3",
   "version": "3.11.5"
  }
 },
 "nbformat": 4,
 "nbformat_minor": 5
}
