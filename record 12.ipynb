{
 "cells": [
  {
   "cell_type": "code",
   "execution_count": 27,
   "id": "0b0b4771-8b97-41f9-9077-d5a9c25a7791",
   "metadata": {},
   "outputs": [
    {
     "name": "stdin",
     "output_type": "stream",
     "text": [
      "Enter a line of text:  CK IS MY FATHER MY FATHER IS CK\n"
     ]
    },
    {
     "name": "stdout",
     "output_type": "stream",
     "text": [
      "Word occurrences: {'CK': 2, 'IS': 2, 'MY': 2, 'FATHER': 2}\n"
     ]
    }
   ],
   "source": [
    "#1. Count the occurrences of each word in a line of text.\n",
    "text = input(\"Enter a line of text: \")\n",
    "words = text.split()\n",
    "word_count = {}\n",
    "for word in words:\n",
    "    word_count[word] = word_count.get(word, 0) + 1\n",
    "print(\"Word occurrences:\", word_count)\n",
    "\n"
   ]
  },
  {
   "cell_type": "code",
   "execution_count": 38,
   "id": "5a712815-4285-47c7-aca4-4da7f3ba4153",
   "metadata": {},
   "outputs": [
    {
     "name": "stdin",
     "output_type": "stream",
     "text": [
      "Enter integers :  654,5,4,85,3\n"
     ]
    },
    {
     "name": "stdout",
     "output_type": "stream",
     "text": [
      "the result: ['over', 5, 4, 85, 3]\n"
     ]
    }
   ],
   "source": [
    "#2. Prompt the user for a list of integers. For all values greater than 100, store ‘over’ instead.\n",
    "nums = list(map(int, input(\"Enter integers : \").split(\",\")))\n",
    "result = [num if num <= 100 else 'over' for num in nums]\n",
    "print(\"the result:\",result)\n"
   ]
  },
  {
   "cell_type": "code",
   "execution_count": 41,
   "id": "fa22439f-f2a8-4403-97b9-ebca41d47038",
   "metadata": {},
   "outputs": [
    {
     "name": "stdin",
     "output_type": "stream",
     "text": [
      "enter the first names: niya,miya,liya,thiya\n"
     ]
    },
    {
     "name": "stdout",
     "output_type": "stream",
     "text": [
      "total A occurrence is : 4\n"
     ]
    }
   ],
   "source": [
    "#3. Store a list of first names. Count the occu#1. Count the occurrences of \"a\" within the list\n",
    "names=input(\"enter the first names:\").split(\",\")\n",
    "count=0\n",
    "for name in names:\n",
    "    name_1=name.lower()\n",
    "    count=count+name_1.count(\"a\")\n",
    "print (\"total A occurrence is :\",count)"
   ]
  },
  {
   "cell_type": "code",
   "execution_count": 18,
   "id": "bd805301-3e75-4830-8002-b5e16f93d1ad",
   "metadata": {},
   "outputs": [
    {
     "name": "stdin",
     "output_type": "stream",
     "text": [
      "Enter first number:  45433\n",
      "Enter second number:  13\n"
     ]
    },
    {
     "name": "stdout",
     "output_type": "stream",
     "text": [
      "GCD is: 1\n"
     ]
    }
   ],
   "source": [
    "#4. Find gcd of 2 numbers.\n",
    "a = int(input(\"Enter first number: \"))\n",
    "b = int(input(\"Enter second number: \"))\n",
    "gcd = 1\n",
    "for i in range(1, min(a, b) + 1):\n",
    "    if a % i == 0 and b % i == 0:\n",
    "        gcd = i\n",
    "print(\"GCD is:\", gcd)"
   ]
  },
  {
   "cell_type": "code",
   "execution_count": 9,
   "id": "b00aafab-e268-48be-a43d-ece596ee0253",
   "metadata": {},
   "outputs": [
    {
     "name": "stdin",
     "output_type": "stream",
     "text": [
      "Enter integers:  65,95,45,12,75,65,44,33,31\n"
     ]
    },
    {
     "name": "stdout",
     "output_type": "stream",
     "text": [
      "List after removing evens: [65, 95, 45, 75, 65, 33, 31]\n"
     ]
    }
   ],
   "source": [
    "#5. From a list of integers, create a list removing even numbers.\n",
    "nums = list(map(int, input(\"Enter integers: \").split(\",\")))\n",
    "result = [n for n in nums if n % 2 != 0]\n",
    "print(\"List after removing evens:\", result)\n",
    "\n"
   ]
  },
  {
   "cell_type": "code",
   "execution_count": 17,
   "id": "a6d5e19b-9479-44e3-9964-4dccfb960dc6",
   "metadata": {},
   "outputs": [
    {
     "name": "stdin",
     "output_type": "stream",
     "text": [
      "Enter a number:  32\n"
     ]
    },
    {
     "name": "stdout",
     "output_type": "stream",
     "text": [
      "Factorial: 263130836933693530167218012160000000\n"
     ]
    }
   ],
   "source": [
    "#6. Program to find the factorial of a number\n",
    "n = int(input(\"Enter a number: \"))\n",
    "fact = 1\n",
    "for i in range(1, n + 1):\n",
    "    fact *= i\n",
    "print(\"Factorial:\", fact)"
   ]
  },
  {
   "cell_type": "code",
   "execution_count": 30,
   "id": "71f2f7c1-d85d-4081-b425-434b2464846c",
   "metadata": {},
   "outputs": [
    {
     "name": "stdin",
     "output_type": "stream",
     "text": [
      "Enter N:  5\n"
     ]
    },
    {
     "name": "stdout",
     "output_type": "stream",
     "text": [
      "Fibonacci series:\n",
      "0 1 1 2 3 "
     ]
    }
   ],
   "source": [
    "#7. Generate Fibonacci series of N terms\n",
    "n = int(input(\"Enter N: \"))\n",
    "a, b = 0, 1\n",
    "print(\"Fibonacci series:\")\n",
    "for _ in range(n):\n",
    "    print(a, end=\" \")\n",
    "    a, b = b, a + b"
   ]
  },
  {
   "cell_type": "code",
   "execution_count": 26,
   "id": "21ef13a6-adbf-4ab3-a25e-c0d7be09c559",
   "metadata": {},
   "outputs": [
    {
     "name": "stdin",
     "output_type": "stream",
     "text": [
      "Enter integers:  5,4,5,1,3\n"
     ]
    },
    {
     "name": "stdout",
     "output_type": "stream",
     "text": [
      "Sum of list: 18\n"
     ]
    }
   ],
   "source": [
    "#8. Find the sum of all items in a list\n",
    "nums = list(map(int, input(\"Enter integers: \").split(\",\")))\n",
    "total = 0\n",
    "for num in nums:\n",
    "    total += num\n",
    "print(\"Sum of list:\", total)"
   ]
  },
  {
   "cell_type": "code",
   "execution_count": 35,
   "id": "79d04898-9236-4354-9191-dd6efa2d8b42",
   "metadata": {},
   "outputs": [
    {
     "name": "stdin",
     "output_type": "stream",
     "text": [
      "Enter the start of range :  455\n",
      "Enter the end of range :  544\n"
     ]
    },
    {
     "name": "stdout",
     "output_type": "stream",
     "text": [
      "Numbers with all even digits and perfect squares: [484]\n"
     ]
    }
   ],
   "source": [
    "#9. Generate a list of four digit numbers in a given range with all their digits even and the number is a perfect square.\n",
    "import math\n",
    "start = int(input(\"Enter the start of range : \"))\n",
    "end = int(input(\"Enter the end of range : \"))\n",
    "result = []\n",
    "for num in range(start, end + 1):\n",
    "    if all(int(digit) % 2 == 0 for digit in str(num)):\n",
    "        if int(math.isqrt(num)) ** 2 == num:\n",
    "            result.append(num)\n",
    "print(\"Numbers with all even digits and perfect squares:\", result)"
   ]
  },
  {
   "cell_type": "code",
   "execution_count": null,
   "id": "0575a065-1be8-4d43-a4b3-ac657278cce6",
   "metadata": {},
   "outputs": [],
   "source": []
  },
  {
   "cell_type": "code",
   "execution_count": 40,
   "id": "b2816fb4-4bcc-4761-9602-451d51ad0718",
   "metadata": {},
   "outputs": [
    {
     "name": "stdin",
     "output_type": "stream",
     "text": [
      "Enter a string :  13\n"
     ]
    },
    {
     "name": "stdout",
     "output_type": "stream",
     "text": [
      "Character frequency : {'1': 1, '3': 1}\n"
     ]
    }
   ],
   "source": [
    "#Count the number of characters (character frequency) in a string.\n",
    "text = input(\"Enter a string : \")\n",
    "txtcount = {}\n",
    "for ch in text:\n",
    "    txtcount[ch] = txtcount.get(ch, 0) + 1\n",
    "print(\"Character frequency :\", txtcount)"
   ]
  },
  {
   "cell_type": "code",
   "execution_count": 19,
   "id": "d7ecc840-1d50-4e02-a3db-0d998856bc62",
   "metadata": {},
   "outputs": [
    {
     "name": "stdin",
     "output_type": "stream",
     "text": [
      "Enter N:  5\n"
     ]
    },
    {
     "name": "stdout",
     "output_type": "stream",
     "text": [
      "1 \n",
      "2 4 \n",
      "3 6 9 \n",
      "4 8 12 16 \n",
      "5 10 15 20 25 \n"
     ]
    }
   ],
   "source": [
    "#11. Display the given pyramid with step number accepted from user.\n",
    "n = int(input(\"Enter N: \"))\n",
    "for i in range(1, n+1):\n",
    "    for j in range(1, i+1):\n",
    "        print(i*j, end=\" \")\n",
    "    print()\n",
    "\n"
   ]
  },
  {
   "cell_type": "code",
   "execution_count": null,
   "id": "9f23e999-8f71-410d-ae26-5d2f121b0981",
   "metadata": {},
   "outputs": [],
   "source": []
  }
 ],
 "metadata": {
  "kernelspec": {
   "display_name": "Python 3 (ipykernel)",
   "language": "python",
   "name": "python3"
  },
  "language_info": {
   "codemirror_mode": {
    "name": "ipython",
    "version": 3
   },
   "file_extension": ".py",
   "mimetype": "text/x-python",
   "name": "python",
   "nbconvert_exporter": "python",
   "pygments_lexer": "ipython3",
   "version": "3.11.5"
  }
 },
 "nbformat": 4,
 "nbformat_minor": 5
}
