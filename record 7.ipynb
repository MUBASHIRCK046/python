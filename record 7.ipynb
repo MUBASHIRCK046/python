{
 "cells": [
  {
   "cell_type": "code",
   "execution_count": 4,
   "id": "f107e96b-2261-4c17-9ae2-6fd1e07b2e93",
   "metadata": {},
   "outputs": [
    {
     "name": "stdin",
     "output_type": "stream",
     "text": [
      "ENTER THE COLORS SEPRATED BY COKKAS:  red,green,blue,violet,yellow\n"
     ]
    },
    {
     "name": "stdout",
     "output_type": "stream",
     "text": [
      "first color: red\n",
      "last color: yellow\n"
     ]
    }
   ],
   "source": [
    "#CREATE A LIST FROM USER FROM COMMA-SEPRATED COLOR NAMES ENTERED BY USER , DISPLAY FIRST AND LAST COLOR \n",
    "colors = input(\"ENTER THE COLORS SEPRATED BY COMMAS: \").split(\",\")\n",
    "print(\"first color:\",colors[0])\n",
    "print(\"last color:\",colors[-1])"
   ]
  },
  {
   "cell_type": "code",
   "execution_count": 18,
   "id": "91a5a2af-877b-4951-a505-bd6a34c010f4",
   "metadata": {},
   "outputs": [
    {
     "name": "stdin",
     "output_type": "stream",
     "text": [
      "ENTER THE FILE NAME: rui re.html\n"
     ]
    },
    {
     "name": "stdout",
     "output_type": "stream",
     "text": [
      "File extension is : html\n"
     ]
    }
   ],
   "source": [
    "filename=input(\"ENTER THE FILE NAME:\")\n",
    "extension = filename.split(\".\")[-1]\n",
    "print(\"File extension is :\",extension)"
   ]
  },
  {
   "cell_type": "code",
   "execution_count": 20,
   "id": "3464569a-b022-4474-9e83-ec7e8fc26d82",
   "metadata": {},
   "outputs": [
    {
     "name": "stdin",
     "output_type": "stream",
     "text": [
      "Enter numbers:  215,465,465,465\n"
     ]
    },
    {
     "name": "stdout",
     "output_type": "stream",
     "text": [
      "List: [215, 465, 465, 465]\n",
      "Sum: 1610\n"
     ]
    }
   ],
   "source": [
    "# Write a python program which accepts a sequence of comma-separated numbers from user and generate a list with thosenumbers and find sum of all items in that list.\n",
    "nums = list(map(int, input(\"Enter numbers: \").split(\",\")))\n",
    "print(\"List:\", nums)\n",
    "print(\"Sum:\", sum(nums))"
   ]
  },
  {
   "cell_type": "code",
   "execution_count": null,
   "id": "fd5d1f64-8368-4ee5-ac5b-1f1a2f23db39",
   "metadata": {},
   "outputs": [],
   "source": []
  }
 ],
 "metadata": {
  "kernelspec": {
   "display_name": "Python 3 (ipykernel)",
   "language": "python",
   "name": "python3"
  },
  "language_info": {
   "codemirror_mode": {
    "name": "ipython",
    "version": 3
   },
   "file_extension": ".py",
   "mimetype": "text/x-python",
   "name": "python",
   "nbconvert_exporter": "python",
   "pygments_lexer": "ipython3",
   "version": "3.11.5"
  }
 },
 "nbformat": 4,
 "nbformat_minor": 5
}
