{
 "cells": [
  {
   "cell_type": "code",
   "execution_count": 15,
   "id": "c85f9a0d-f527-4deb-b97b-5f8756393a37",
   "metadata": {},
   "outputs": [
    {
     "name": "stdin",
     "output_type": "stream",
     "text": [
      "Enter the numbers of tuple separated by commas:  1,6,8\n"
     ]
    },
    {
     "name": "stdout",
     "output_type": "stream",
     "text": [
      "Tuple = (1.0, 6.0, 8.0)\n",
      "The 3rd element = 8.0  | The 3rd element from last = 1.0\n"
     ]
    }
   ],
   "source": [
    "# Program to get the 3rd element and 3rd element from last of the tuple\n",
    "t = tuple(map(float, input(\"Enter the numbers of tuple separated by commas: \").split(',')))\n",
    "print(\"Tuple =\", t)\n",
    "third = t[2]\n",
    "third_from_last = t[-3]\n",
    "print(\"The 3rd element =\", third, \" | The 3rd element from last =\", third_from_last)"
   ]
  },
  {
   "cell_type": "code",
   "execution_count": 17,
   "id": "09568cf9-c5f7-4528-b35f-884c8e117ff4",
   "metadata": {},
   "outputs": [
    {
     "name": "stdin",
     "output_type": "stream",
     "text": [
      "enter the comma seprated tuple 1,6,5,3\n"
     ]
    },
    {
     "name": "stdout",
     "output_type": "stream",
     "text": [
      "tuple= (1.0, 6.0, 5.0, 3.0)\n",
      "The average of all element in a tuple = 3.75\n"
     ]
    }
   ],
   "source": [
    "tup=tuple(map(float,input(\"enter the comma seprated tuple\").split(',')))\n",
    "print(\"tuple=\",tup)\n",
    "num=len(tup)\n",
    "name=sum(tup)\n",
    "print(\"The average of all element in a tuple =\",name/num)"
   ]
  },
  {
   "cell_type": "code",
   "execution_count": 12,
   "id": "9a848e2d-2a34-42cc-bedc-3933f728668f",
   "metadata": {},
   "outputs": [
    {
     "name": "stdout",
     "output_type": "stream",
     "text": [
      "(1, 2, 8, 4, 5)\n",
      "8\n"
     ]
    }
   ],
   "source": []
  },
  {
   "cell_type": "code",
   "execution_count": null,
   "id": "05b58ecf-0fd0-437b-afb3-43f51529d4fd",
   "metadata": {},
   "outputs": [],
   "source": []
  }
 ],
 "metadata": {
  "kernelspec": {
   "display_name": "Python 3 (ipykernel)",
   "language": "python",
   "name": "python3"
  },
  "language_info": {
   "codemirror_mode": {
    "name": "ipython",
    "version": 3
   },
   "file_extension": ".py",
   "mimetype": "text/x-python",
   "name": "python",
   "nbconvert_exporter": "python",
   "pygments_lexer": "ipython3",
   "version": "3.11.5"
  }
 },
 "nbformat": 4,
 "nbformat_minor": 5
}
