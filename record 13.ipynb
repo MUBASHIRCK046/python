{
 "cells": [
  {
   "cell_type": "code",
   "execution_count": 2,
   "id": "6ffb5812-a274-45f8-acc3-5b3298e1b817",
   "metadata": {},
   "outputs": [
    {
     "name": "stdin",
     "output_type": "stream",
     "text": [
      "Enter words:  hello python\n"
     ]
    },
    {
     "name": "stdout",
     "output_type": "stream",
     "text": [
      "Length of the longest word: 6\n"
     ]
    }
   ],
   "source": [
    "# Function to find length of longest word\n",
    "def longest_word_length(words):\n",
    "    return max(len(word) for word in words)\n",
    "words = input(\"Enter words: \").split()\n",
    "longest_length = longest_word_length(words)\n",
    "print(\"Length of the longest word:\", longest_length)\n"
   ]
  },
  {
   "cell_type": "code",
   "execution_count": 6,
   "id": "ea274026-f59f-4218-a99c-b3f2665b82ba",
   "metadata": {},
   "outputs": [
    {
     "name": "stdin",
     "output_type": "stream",
     "text": [
      "Enter your integer:  5\n"
     ]
    },
    {
     "name": "stdout",
     "output_type": "stream",
     "text": [
      "*\n",
      "**\n",
      "***\n",
      "****\n",
      "*****\n",
      "****\n",
      "***\n",
      "**\n",
      "*\n"
     ]
    }
   ],
   "source": [
    "# Function to print the pattern\n",
    "def print_star_pattern(n):\n",
    "    for i in range(1, n + 1):\n",
    "        print('*' * i)\n",
    "    for i in range(n - 1, 0, -1):\n",
    "        print('*' * i)\n",
    "num = int(input(\"Enter your integer: \"))\n",
    "print_star_pattern(num)\n"
   ]
  },
  {
   "cell_type": "code",
   "execution_count": 7,
   "id": "a6acb2ae-4c7e-4318-860d-ec501b6317ad",
   "metadata": {},
   "outputs": [
    {
     "name": "stdin",
     "output_type": "stream",
     "text": [
      "Enter a number:  5\n"
     ]
    },
    {
     "name": "stdout",
     "output_type": "stream",
     "text": [
      "Factors of 5 are: [1, 5]\n"
     ]
    }
   ],
   "source": [
    "# Function to generate all factors of a number\n",
    "def generate_factors(num):\n",
    "    return [i for i in range(1, num + 1) if num % i == 0]\n",
    "number = int(input(\"Enter a number: \"))\n",
    "factors = generate_factors(number)\n",
    "print(\"Factors of\", number, \"are:\", factors)\n"
   ]
  },
  {
   "cell_type": "code",
   "execution_count": 8,
   "id": "baaf177a-db33-4be8-8220-9209f2079536",
   "metadata": {},
   "outputs": [
    {
     "name": "stdin",
     "output_type": "stream",
     "text": [
      "Enter the side of the square:  2\n"
     ]
    },
    {
     "name": "stdout",
     "output_type": "stream",
     "text": [
      "Area of square: 4.0\n"
     ]
    },
    {
     "name": "stdin",
     "output_type": "stream",
     "text": [
      "\n",
      "Enter the length of the rectangle:  4\n",
      "Enter the breadth of the rectangle:  3\n"
     ]
    },
    {
     "name": "stdout",
     "output_type": "stream",
     "text": [
      "Area of rectangle: 12.0\n"
     ]
    },
    {
     "name": "stdin",
     "output_type": "stream",
     "text": [
      "\n",
      "Enter the base of the triangle:  7\n",
      "Enter the height of the triangle:  6\n"
     ]
    },
    {
     "name": "stdout",
     "output_type": "stream",
     "text": [
      "Area of triangle: 21.0\n"
     ]
    }
   ],
   "source": [
    "# Function to calculate area of a square\n",
    "def area_square(side):\n",
    "    return side ** 2\n",
    "# Function to calculate area of a rectangle\n",
    "def area_rectangle(length, breadth):\n",
    "    return length * breadth\n",
    "# Function to calculate area of a triangle\n",
    "def area_triangle(base, height):\n",
    "    return 0.5 * base * height\n",
    "# Input and output\n",
    "side = float(input(\"Enter the side of the square: \"))\n",
    "print(\"Area of square:\", area_square(side))\n",
    "length = float(input(\"\\nEnter the length of the rectangle: \"))\n",
    "breadth = float(input(\"Enter the breadth of the rectangle: \"))\n",
    "print(\"Area of rectangle:\", area_rectangle(length, breadth))\n",
    "base = float(input(\"\\nEnter the base of the triangle: \"))\n",
    "height = float(input(\"Enter the height of the triangle: \"))\n",
    "print(\"Area of triangle:\", area_triangle(base, height))\n"
   ]
  },
  {
   "cell_type": "code",
   "execution_count": null,
   "id": "3210c12f-845b-4ef3-bfd4-c46fb6d62c85",
   "metadata": {},
   "outputs": [],
   "source": []
  }
 ],
 "metadata": {
  "kernelspec": {
   "display_name": "Python 3 (ipykernel)",
   "language": "python",
   "name": "python3"
  },
  "language_info": {
   "codemirror_mode": {
    "name": "ipython",
    "version": 3
   },
   "file_extension": ".py",
   "mimetype": "text/x-python",
   "name": "python",
   "nbconvert_exporter": "python",
   "pygments_lexer": "ipython3",
   "version": "3.11.5"
  }
 },
 "nbformat": 4,
 "nbformat_minor": 5
}
