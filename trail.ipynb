{
 "cells": [
  {
   "cell_type": "code",
   "execution_count": 2,
   "id": "e807dd35-f81b-45f5-a45b-b26286c40fb1",
   "metadata": {},
   "outputs": [
    {
     "name": "stdout",
     "output_type": "stream",
     "text": [
      "4.0\n"
     ]
    }
   ],
   "source": [
    "import math\n",
    "number = 16\n",
    "result = math.sqrt(number)\n",
    "print(result)\n"
   ]
  },
  {
   "cell_type": "code",
   "execution_count": 4,
   "id": "16a6fcdc-d7b2-4569-81ba-c130947d160c",
   "metadata": {},
   "outputs": [
    {
     "name": "stdout",
     "output_type": "stream",
     "text": [
      "5\n",
      "4\n"
     ]
    }
   ],
   "source": [
    "import math\n",
    "num = 4.7\n",
    "print(math.ceil(num))   \n",
    "print(math.floor(num))  \n"
   ]
  },
  {
   "cell_type": "code",
   "execution_count": 5,
   "id": "1c663907-862f-4fc6-9b04-ec7796084771",
   "metadata": {},
   "outputs": [
    {
     "name": "stdin",
     "output_type": "stream",
     "text": [
      "enter side length: 2\n"
     ]
    },
    {
     "name": "stdout",
     "output_type": "stream",
     "text": [
      "Area of the square is 4\n"
     ]
    }
   ],
   "source": [
    "\n",
    "# area of the square \n",
    "side = input(\"enter side length:\")\n",
    "side = int(side)\n",
    "area = side * side\n",
    "print(\"Area of the square is\", area)"
   ]
  },
  {
   "cell_type": "code",
   "execution_count": 6,
   "id": "2d0fcc9a-d41d-4bf9-960b-88ea374063d4",
   "metadata": {},
   "outputs": [
    {
     "name": "stdin",
     "output_type": "stream",
     "text": [
      "enter the name: muba\n"
     ]
    },
    {
     "name": "stdout",
     "output_type": "stream",
     "text": [
      "hello,muba!\n"
     ]
    }
   ],
   "source": [
    "\n",
    "#program with greets the user by printing thw thw helloand a comma and make exclamation mark after it \n",
    "name =input(\"enter the name:\")\n",
    "print(\"hello,\"+name+\"!\")"
   ]
  },
  {
   "cell_type": "code",
   "execution_count": 7,
   "id": "568608c2-4a1e-4dfe-8d93-0ab021e02434",
   "metadata": {},
   "outputs": [
    {
     "name": "stdin",
     "output_type": "stream",
     "text": [
      "enter the amount  247777\n",
      "enter the interst rate 23\n",
      "enter the years 12\n"
     ]
    },
    {
     "name": "stdout",
     "output_type": "stream",
     "text": [
      "simple interst is 683864.52\n"
     ]
    }
   ],
   "source": [
    "#python programming for computing simple interest\n",
    "pr=int(input(\"enter the amount \"))\n",
    "r=int(input(\"enter the interst rate\"))\n",
    "t=int(input(\"enter the years\"))\n",
    "amount=(pr*r*t)/100\n",
    "print(\"simple interst is\",amount)"
   ]
  },
  {
   "cell_type": "code",
   "execution_count": null,
   "id": "15ca705a-bdad-4038-be0b-b6160b65cf82",
   "metadata": {},
   "outputs": [],
   "source": []
  }
 ],
 "metadata": {
  "kernelspec": {
   "display_name": "Python 3 (ipykernel)",
   "language": "python",
   "name": "python3"
  },
  "language_info": {
   "codemirror_mode": {
    "name": "ipython",
    "version": 3
   },
   "file_extension": ".py",
   "mimetype": "text/x-python",
   "name": "python",
   "nbconvert_exporter": "python",
   "pygments_lexer": "ipython3",
   "version": "3.11.5"
  }
 },
 "nbformat": 4,
 "nbformat_minor": 5
}
