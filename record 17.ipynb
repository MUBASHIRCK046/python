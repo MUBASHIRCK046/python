{
 "cells": [
  {
   "cell_type": "code",
   "execution_count": 7,
   "id": "4dd152d5-c344-4ccf-ab6d-cf53dc7e5c90",
   "metadata": {},
   "outputs": [
    {
     "name": "stdin",
     "output_type": "stream",
     "text": [
      "Enter publisher name: mubashir\n",
      "Enter the book title: book\n",
      "Enter author's name: alber\n",
      "Enter the price: 554\n",
      "Enter the number of pages: 25455\n"
     ]
    },
    {
     "name": "stdout",
     "output_type": "stream",
     "text": [
      "\n",
      "\n",
      "Publisher name: mubashir\n",
      "book title: book\n",
      "author name: alber\n",
      "Book Price: 554\n",
      "Number of pages: 25455\n"
     ]
    }
   ],
   "source": [
    "class publisher:\n",
    "    def __init__(self,name):\n",
    "        self.name=name\n",
    "        \n",
    "    def display(self):\n",
    "        print(\"Publisher name:\",self.name)\n",
    "        \n",
    "class book(publisher):\n",
    "    def __init__(self,name,title,author):\n",
    "        super().__init__(name)\n",
    "        self.title=title\n",
    "        self.author=author\n",
    "    def display(self):\n",
    "        super().display()\n",
    "        print(\"book title:\",self.title)\n",
    "        print(\"author name:\",self.author)\n",
    "\n",
    "class python(book):\n",
    "    def __init__(self,name,title,author,price,pages_no):\n",
    "        super().__init__(name, title, author)\n",
    "        self.price=price\n",
    "        self.pages_no=pages_no\n",
    "        \n",
    "    def display(self):\n",
    "        super().display()\n",
    "        print(\"Book Price:\",self.price)\n",
    "        print(\"Number of pages:\",self.pages_no)\n",
    "\n",
    "name=input(\"Enter publisher name:\")\n",
    "title=input(\"Enter the book title:\")\n",
    "author=input(\"Enter author's name:\")\n",
    "price=input(\"Enter the price:\")\n",
    "pages_no=int(input(\"Enter the number of pages:\"))\n",
    "\n",
    "print(\"\\n\")\n",
    "book=python(name,title,author,price,pages_no)#ob\n",
    "book.display()\n",
    "##inheritence = class ,atributes, properties another class\n",
    "##5=single,multi level,multiple,hireacry,"
   ]
  },
  {
   "cell_type": "code",
   "execution_count": null,
   "id": "f9ccefa0-28d0-489b-ace8-72302e741186",
   "metadata": {},
   "outputs": [],
   "source": []
  }
 ],
 "metadata": {
  "kernelspec": {
   "display_name": "Python 3 (ipykernel)",
   "language": "python",
   "name": "python3"
  },
  "language_info": {
   "codemirror_mode": {
    "name": "ipython",
    "version": 3
   },
   "file_extension": ".py",
   "mimetype": "text/x-python",
   "name": "python",
   "nbconvert_exporter": "python",
   "pygments_lexer": "ipython3",
   "version": "3.11.5"
  }
 },
 "nbformat": 4,
 "nbformat_minor": 5
}
