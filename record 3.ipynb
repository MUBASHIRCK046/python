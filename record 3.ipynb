{
 "cells": [
  {
   "cell_type": "code",
   "execution_count": 3,
   "id": "8909d616-9bd6-4a0b-90df-50af551d1ed0",
   "metadata": {},
   "outputs": [
    {
     "name": "stdin",
     "output_type": "stream",
     "text": [
      "Enter the temperature in Celsius:  12\n"
     ]
    },
    {
     "name": "stdout",
     "output_type": "stream",
     "text": [
      "Fahrenheit: 53.6\n"
     ]
    }
   ],
   "source": [
    "# Convert Celsius to Fahrenheit\n",
    "c = float(input(\"Enter the temperature in Celsius: \"))\n",
    "fahrenheit = (c * 9/5) + 32\n",
    "print(f\"Fahrenheit: {fahrenheit}\")"
   ]
  },
  {
   "cell_type": "code",
   "execution_count": 4,
   "id": "9fcc72bf-9f20-43e1-aa52-ec5dcdac040a",
   "metadata": {},
   "outputs": [
    {
     "name": "stdin",
     "output_type": "stream",
     "text": [
      "Enter the distance in kilometers:  5\n"
     ]
    },
    {
     "name": "stdout",
     "output_type": "stream",
     "text": [
      "5.0 km = 3.11miles\n"
     ]
    }
   ],
   "source": [
    "# Convert kilometeres to miles \n",
    "c = float(input(\"Enter the distance in kilometers: \"))\n",
    "miles = c * 0.62137\n",
    "print(f\"{c} km = {round (miles, 2)}miles\")\n"
   ]
  },
  {
   "cell_type": "code",
   "execution_count": null,
   "id": "9b482519-0484-4151-accf-5a683a150cce",
   "metadata": {},
   "outputs": [],
   "source": []
  }
 ],
 "metadata": {
  "kernelspec": {
   "display_name": "Python 3 (ipykernel)",
   "language": "python",
   "name": "python3"
  },
  "language_info": {
   "codemirror_mode": {
    "name": "ipython",
    "version": 3
   },
   "file_extension": ".py",
   "mimetype": "text/x-python",
   "name": "python",
   "nbconvert_exporter": "python",
   "pygments_lexer": "ipython3",
   "version": "3.11.5"
  }
 },
 "nbformat": 4,
 "nbformat_minor": 5
}
