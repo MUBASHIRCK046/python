{
 "cells": [
  {
   "cell_type": "code",
   "execution_count": 2,
   "id": "ab07ab74-01f0-43e1-9df3-ac0c97e5216e",
   "metadata": {},
   "outputs": [
    {
     "name": "stdin",
     "output_type": "stream",
     "text": [
      "Enter the integer: 2\n"
     ]
    },
    {
     "name": "stdout",
     "output_type": "stream",
     "text": [
      "2 + 22 + 222 = 246\n"
     ]
    }
   ],
   "source": [
    "n = input(\"Enter the integer:\")\n",
    "nn = n * 2\n",
    "nnn = n * 3\n",
    "sum=int(n)+int(nn)+int(nnn)\n",
    "print (n,\"+\",nn,\"+\",nnn,\"=\",sum)"
   ]
  },
  {
   "cell_type": "code",
   "execution_count": 1,
   "id": "abba20ae-5c51-473b-8f0d-e1cfc937863a",
   "metadata": {},
   "outputs": [
    {
     "name": "stdin",
     "output_type": "stream",
     "text": [
      "enter the radius : 3\n"
     ]
    },
    {
     "name": "stdout",
     "output_type": "stream",
     "text": [
      "area of circle 28.27\n"
     ]
    }
   ],
   "source": [
    "import math\n",
    "r = float(input(\"enter the radius :\"))\n",
    "area = math.pi * r**2\n",
    "print(\"area of circle\",round(area,2))"
   ]
  }
 ],
 "metadata": {
  "kernelspec": {
   "display_name": "Python 3 (ipykernel)",
   "language": "python",
   "name": "python3"
  },
  "language_info": {
   "codemirror_mode": {
    "name": "ipython",
    "version": 3
   },
   "file_extension": ".py",
   "mimetype": "text/x-python",
   "name": "python",
   "nbconvert_exporter": "python",
   "pygments_lexer": "ipython3",
   "version": "3.11.5"
  }
 },
 "nbformat": 4,
 "nbformat_minor": 5
}
