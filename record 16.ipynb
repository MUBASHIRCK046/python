{
 "cells": [
  {
   "cell_type": "code",
   "execution_count": null,
   "id": "e7b6e978-7bf3-4d39-b566-5cecfae12642",
   "metadata": {},
   "outputs": [
    {
     "name": "stdin",
     "output_type": "stream",
     "text": [
      "Enter account number: 245\n",
      "Enter the name: mubashir\n",
      "Account type is: current\n",
      "Enter the initial balance: 1000\n"
     ]
    },
    {
     "name": "stdout",
     "output_type": "stream",
     "text": [
      "1.Deposit\n",
      "2.Withdraw\n",
      "3.Display\n",
      "4.Exit\n"
     ]
    },
    {
     "name": "stdin",
     "output_type": "stream",
     "text": [
      "Enter your choice: 3\n"
     ]
    },
    {
     "name": "stdout",
     "output_type": "stream",
     "text": [
      "Account Number: 245\n",
      "Name: mubashir\n",
      "Account type: current\n",
      "Balance: 1000.0\n",
      "1.Deposit\n",
      "2.Withdraw\n",
      "3.Display\n",
      "4.Exit\n"
     ]
    },
    {
     "name": "stdin",
     "output_type": "stream",
     "text": [
      "Enter your choice: 2\n",
      "Enter amount to withdraw: 2000\n"
     ]
    },
    {
     "name": "stdout",
     "output_type": "stream",
     "text": [
      "Balance= 1000.0\n",
      "Insufficient balance!\n",
      "1.Deposit\n",
      "2.Withdraw\n",
      "3.Display\n",
      "4.Exit\n"
     ]
    }
   ],
   "source": [
    "class bank:\n",
    "    def __init__(self,acc_no,name,type,balance):##ARTIBUTES\n",
    "        self.acc_no=acc_no\n",
    "        self.name=name\n",
    "        self.type=type\n",
    "        self.balance=balance\n",
    "    def deposit(self,amount):\n",
    "        self.balance=self.balance+amount\n",
    "        print(\"Deposited amount:\",amount)\n",
    "        print(\"updated balance:\",self.balance)\n",
    "    def withdraw(self,amount):\n",
    "        print(\"Balance=\",self.balance)\n",
    "        if amount > self.balance:\n",
    "            print(\"Insufficient balance!\")\n",
    "        else:\n",
    "            self.balance -= amount\n",
    "            print(\"Withdrawn amount:\", amount)\n",
    "            print(\"Updated balance:\", self.balance)\n",
    "\n",
    "    def display(self):\n",
    "        print(\"Account Number:\",self.acc_no)\n",
    "        print(\"Name:\",self.name)\n",
    "        print(\"Account type:\",self.type)\n",
    "        print(\"Balance:\",self.balance)\n",
    "        \n",
    "acc_no=int(input(\"Enter account number:\"))\n",
    "name=input(\"Enter the name:\")\n",
    "type=input(\"Account type is:\")\n",
    "balance=float(input(\"Enter the initial balance:\"))\n",
    "account=bank(acc_no,name,type,balance)\n",
    "while True:\n",
    "    print(\"1.Deposit\")\n",
    "    print(\"2.Withdraw\")\n",
    "    print(\"3.Display\")\n",
    "    print(\"4.Exit\")\n",
    "    choice=int(input(\"Enter your choice:\"))\n",
    "    if choice==1:\n",
    "        amt=int(input(\"Enter amount to deposit:\"))\n",
    "        account.deposit(amt)\n",
    "    elif choice==2:\n",
    "        amt=int(input(\"Enter amount to withdraw:\"))\n",
    "        account.withdraw(amt)\n",
    "        \n",
    "    elif choice==3:\n",
    "        account.display()\n",
    "    elif choice==4:\n",
    "        print(\"Thankyou!\")\n",
    "        break\n",
    "    else:\n",
    "        print(\"Invalid choice.Try again!\")\n",
    "\n"
   ]
  },
  {
   "cell_type": "code",
   "execution_count": null,
   "id": "67bb67a6-ff73-4a87-ac2c-2aeba878d1dc",
   "metadata": {},
   "outputs": [],
   "source": []
  }
 ],
 "metadata": {
  "kernelspec": {
   "display_name": "Python 3 (ipykernel)",
   "language": "python",
   "name": "python3"
  },
  "language_info": {
   "codemirror_mode": {
    "name": "ipython",
    "version": 3
   },
   "file_extension": ".py",
   "mimetype": "text/x-python",
   "name": "python",
   "nbconvert_exporter": "python",
   "pygments_lexer": "ipython3",
   "version": "3.11.5"
  }
 },
 "nbformat": 4,
 "nbformat_minor": 5
}
