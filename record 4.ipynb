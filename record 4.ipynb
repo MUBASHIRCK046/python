{
 "cells": [
  {
   "cell_type": "code",
   "execution_count": 1,
   "id": "119fb4f9-015e-4dde-88ef-7e98c5eb830f",
   "metadata": {},
   "outputs": [
    {
     "name": "stdin",
     "output_type": "stream",
     "text": [
      "enter first number 56\n",
      "enter second number 45\n",
      "enter third number 96\n"
     ]
    },
    {
     "name": "stdout",
     "output_type": "stream",
     "text": [
      "the biggest number is: 96.0\n"
     ]
    }
   ],
   "source": [
    "#python program to find the biggest of three numbers uing max()\n",
    "num1 = float(input(\"enter first number\"))\n",
    "num2 = float(input(\"enter second number\"))\n",
    "num3 = float(input(\"enter third number\"))\n",
    "biggest = max(num1,num2,num3)\n",
    "print(\"the biggest number is:\",biggest)"
   ]
  },
  {
   "cell_type": "code",
   "execution_count": null,
   "id": "24ab49ab-979a-49c4-ba45-41422f884c20",
   "metadata": {},
   "outputs": [],
   "source": []
  }
 ],
 "metadata": {
  "kernelspec": {
   "display_name": "Python 3 (ipykernel)",
   "language": "python",
   "name": "python3"
  },
  "language_info": {
   "codemirror_mode": {
    "name": "ipython",
    "version": 3
   },
   "file_extension": ".py",
   "mimetype": "text/x-python",
   "name": "python",
   "nbconvert_exporter": "python",
   "pygments_lexer": "ipython3",
   "version": "3.11.5"
  }
 },
 "nbformat": 4,
 "nbformat_minor": 5
}
