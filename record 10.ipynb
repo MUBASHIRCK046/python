{
 "cells": [
  {
   "cell_type": "code",
   "execution_count": 5,
   "id": "29bf946d-9118-4cb9-aa81-43ad85236724",
   "metadata": {},
   "outputs": [
    {
     "name": "stdin",
     "output_type": "stream",
     "text": [
      "Enter first list of integers: 1 2 3 4 5\n",
      "Enter second list of integers: 2 4 5 8 4\n"
     ]
    },
    {
     "name": "stdout",
     "output_type": "stream",
     "text": [
      "the first list: [1, 2, 3, 4, 5]\n",
      "the second list: [2, 4, 5, 8, 4]\n",
      "both list are of same length\n",
      "list sum to different values\n",
      "Any value occur is both: {2, 4, 5}\n"
     ]
    }
   ],
   "source": [
    "list1=list(map(int,input(\"Enter first list of integers:\").split()))\n",
    "list2=list(map(int,input(\"Enter second list of integers:\").split()))\n",
    "print(\"the first list:\",list1)\n",
    "print(\"the second list:\",list2)\n",
    "if len(list1)==len(list2):\n",
    "    print(\"both list are of same length\")\n",
    "else:\n",
    "    print(\"list are different length\")\n",
    "if sum(list1)==sum(list2):\n",
    "    print(\"both list sum to the same value\")\n",
    "else :\n",
    "   print(\"list sum to different values\")\n",
    "c=set(list1)&set(list2)\n",
    "if c:\n",
    "    print(\"Any value occur is both:\",c)\n",
    "else:\n",
    "    print(\"No values occur in both:\")\n",
    "    "
   ]
  },
  {
   "cell_type": "code",
   "execution_count": 3,
   "id": "62e7dff6-9908-45fb-8465-56ce3d17260c",
   "metadata": {},
   "outputs": [
    {
     "name": "stdin",
     "output_type": "stream",
     "text": [
      "enter the string: play\n"
     ]
    },
    {
     "name": "stdout",
     "output_type": "stream",
     "text": [
      "new string: playing\n"
     ]
    }
   ],
   "source": [
    "a=input(\"enter the string:\")\n",
    "if a.endswith(\"ing\"):\n",
    "    a=a+\"ly\"\n",
    "    print(\"new string:\",a)\n",
    "else:\n",
    "    a=a+\"ing\"\n",
    "    print(\"new string:\",a)"
   ]
  },
  {
   "cell_type": "code",
   "execution_count": null,
   "id": "73f61706-6ae4-4049-b1ec-dab42d5ae6d8",
   "metadata": {},
   "outputs": [],
   "source": []
  },
  {
   "cell_type": "code",
   "execution_count": null,
   "id": "a0c4a35f-5344-4d83-9398-99d455e2fd9f",
   "metadata": {},
   "outputs": [],
   "source": []
  }
 ],
 "metadata": {
  "kernelspec": {
   "display_name": "Python 3 (ipykernel)",
   "language": "python",
   "name": "python3"
  },
  "language_info": {
   "codemirror_mode": {
    "name": "ipython",
    "version": 3
   },
   "file_extension": ".py",
   "mimetype": "text/x-python",
   "name": "python",
   "nbconvert_exporter": "python",
   "pygments_lexer": "ipython3",
   "version": "3.11.5"
  }
 },
 "nbformat": 4,
 "nbformat_minor": 5
}
