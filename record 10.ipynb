{
 "cells": [
  {
   "cell_type": "code",
   "execution_count": 2,
   "id": "55684f0c-af4d-47fb-a96b-70429009a0b8",
   "metadata": {},
   "outputs": [
    {
     "name": "stdin",
     "output_type": "stream",
     "text": [
      "Enter the colors of set1: blue,black,red\n",
      "Enter the colors of set2: orange, white,yellow\n"
     ]
    },
    {
     "name": "stdout",
     "output_type": "stream",
     "text": [
      "set1: {'blue,black,red'}\n",
      "set2: {'white,yellow', 'orange,'}\n",
      "colors from set1 not in set2: {'blue,black,red'}\n"
     ]
    }
   ],
   "source": [
    "#print all colors from set1 not ontained in set2\n",
    "set1=set(input(\"Enter the colors of set1:\").split())\n",
    "set2=set(input(\"Enter the colors of set2:\").split())\n",
    "print(\"set1:\",set1)\n",
    "print(\"set2:\",set2)\n",
    "result=set1-set2\n",
    "print(\"colors from set1 not in set2:\",result)"
   ]
  },
  {
   "cell_type": "code",
   "execution_count": 1,
   "id": "431669a7-e9be-465f-b60e-47c7b151267b",
   "metadata": {},
   "outputs": [
    {
     "name": "stdin",
     "output_type": "stream",
     "text": [
      "Enter the colors of set1: black,blue,red\n",
      "Enter the colors of set2: orahe,white,green'\n"
     ]
    },
    {
     "name": "stdout",
     "output_type": "stream",
     "text": [
      "set1: {'black,blue,red'}\n",
      "set2: {\"orahe,white,green'\"}\n",
      "print all colors from set1 and set2: {\"orahe,white,green'\", 'black,blue,red'}\n"
     ]
    }
   ],
   "source": [
    "#to print all colors from set1 and set2\n",
    "set1=set(input(\"Enter the colors of set1:\").split())\n",
    "set2=set(input(\"Enter the colors of set2:\").split())\n",
    "print(\"set1:\",set1)\n",
    "print(\"set2:\",set2)\n",
    "result=set1|set2\n",
    "print(\"print all colors from set1 and set2:\",result)"
   ]
  },
  {
   "cell_type": "code",
   "execution_count": null,
   "id": "ea1bd7f4-f5e7-4115-9d10-c8706dd23571",
   "metadata": {},
   "outputs": [],
   "source": []
  }
 ],
 "metadata": {
  "kernelspec": {
   "display_name": "Python 3 (ipykernel)",
   "language": "python",
   "name": "python3"
  },
  "language_info": {
   "codemirror_mode": {
    "name": "ipython",
    "version": 3
   },
   "file_extension": ".py",
   "mimetype": "text/x-python",
   "name": "python",
   "nbconvert_exporter": "python",
   "pygments_lexer": "ipython3",
   "version": "3.11.5"
  }
 },
 "nbformat": 4,
 "nbformat_minor": 5
}
