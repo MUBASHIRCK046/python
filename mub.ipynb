{
 "cells": [
  {
   "cell_type": "code",
   "execution_count": 7,
   "id": "80d52912-683f-4127-a925-deb5959c1b1b",
   "metadata": {},
   "outputs": [
    {
     "name": "stdout",
     "output_type": "stream",
     "text": [
      "4.0\n"
     ]
    }
   ],
   "source": [
    "#import math \n",
    "number = 16\n",
    "result = math.sqrt(number)\n",
    "print(result)"
   ]
  },
  {
   "cell_type": "code",
   "execution_count": 13,
   "id": "d59cbafa-af44-46a6-ab1c-c2d58ce9183c",
   "metadata": {},
   "outputs": [
    {
     "name": "stdout",
     "output_type": "stream",
     "text": [
      "5\n",
      "4\n"
     ]
    }
   ],
   "source": [
    "\n",
    "#num=4.7\n",
    "print(math.ceil(num))\n",
    "print(math.floor(num))"
   ]
  },
  {
   "cell_type": "code",
   "execution_count": 19,
   "id": "1c4f6f0f-12c6-4b37-a22c-aaa3da887819",
   "metadata": {},
   "outputs": [
    {
     "name": "stdin",
     "output_type": "stream",
     "text": [
      "enter side length: 5\n"
     ]
    },
    {
     "name": "stdout",
     "output_type": "stream",
     "text": [
      "Area of the square is 25\n"
     ]
    }
   ],
   "source": [
    "# area of the square \n",
    "side = input(\"enter side length:\")\n",
    "side = int(side)\n",
    "area = side * side\n",
    "print(\"Area of the square is\", area)\n"
   ]
  },
  {
   "cell_type": "code",
   "execution_count": 2,
   "id": "58181302-6989-4929-833f-6cd795cb6fe3",
   "metadata": {},
   "outputs": [
    {
     "name": "stdin",
     "output_type": "stream",
     "text": [
      "enter the name: mubi\n"
     ]
    },
    {
     "name": "stdout",
     "output_type": "stream",
     "text": [
      "hello,mubi!\n"
     ]
    }
   ],
   "source": [
    "name =input(\"enter the name:\")\n",
    "print(\"hello,\"+name+\"!\")"
   ]
  },
  {
   "cell_type": "code",
   "execution_count": 3,
   "id": "5f3fcc76-3675-4a94-a0a4-2ba45a79a3f6",
   "metadata": {},
   "outputs": [
    {
     "name": "stdin",
     "output_type": "stream",
     "text": [
      "enter the number 8\n"
     ]
    },
    {
     "name": "stdout",
     "output_type": "stream",
     "text": [
      "previous number is  7 next number is 9\n"
     ]
    }
   ],
   "source": [
    "number=int(input(\"enter the number\"))\n",
    "n=number-1\n",
    "u=number+1\n",
    "print(\"previous number is \",(n),\"next number is\",(u))\n"
   ]
  },
  {
   "cell_type": "code",
   "execution_count": 7,
   "id": "d105482b-de3f-42e0-a453-e9acfd49a726",
   "metadata": {},
   "outputs": [
    {
     "name": "stdin",
     "output_type": "stream",
     "text": [
      "enter the amount  1000000\n",
      "enter the interst rate 23\n",
      "enter the years 5\n"
     ]
    },
    {
     "name": "stdout",
     "output_type": "stream",
     "text": [
      "simple interst is 1150000.0\n"
     ]
    }
   ],
   "source": [
    "pr=int(input(\"enter the amount \"))\n",
    "r=int(input(\"enter the interst rate\"))\n",
    "t=int(input(\"enter the years\"))\n",
    "amount=(pr*r*t)/100\n",
    "print(\"simple interst is\",amount)"
   ]
  },
  {
   "cell_type": "code",
   "execution_count": null,
   "id": "b7456d3d-5a96-42cf-b510-56c338f443d9",
   "metadata": {},
   "outputs": [],
   "source": []
  }
 ],
 "metadata": {
  "kernelspec": {
   "display_name": "Python 3 (ipykernel)",
   "language": "python",
   "name": "python3"
  },
  "language_info": {
   "codemirror_mode": {
    "name": "ipython",
    "version": 3
   },
   "file_extension": ".py",
   "mimetype": "text/x-python",
   "name": "python",
   "nbconvert_exporter": "python",
   "pygments_lexer": "ipython3",
   "version": "3.11.7"
  }
 },
 "nbformat": 4,
 "nbformat_minor": 5
}
