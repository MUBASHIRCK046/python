{
 "cells": [
  {
   "cell_type": "code",
   "execution_count": 7,
   "id": "45f8184e-7e4e-4c36-8e69-d2920ae5527e",
   "metadata": {},
   "outputs": [
    {
     "name": "stdin",
     "output_type": "stream",
     "text": [
      "enter roll numbers =  1 2 3 4 5\n",
      "enter five names =  mubashir niya amal adi omar\n"
     ]
    },
    {
     "name": "stdout",
     "output_type": "stream",
     "text": [
      "dictionary is=  {'1': 'mubashir', '2': 'niya', '3': 'amal', '4': 'adi', '5': 'omar'}\n",
      "in ascending order {'1': 'mubashir', '2': 'niya', '3': 'amal', '4': 'adi', '5': 'omar'}\n",
      "in descending order {'5': 'omar', '4': 'adi', '3': 'amal', '2': 'niya', '1': 'mubashir'}\n"
     ]
    }
   ],
   "source": [
    "a=input(\"enter roll numbers = \").split()\n",
    "b=input(\"enter five names = \").split()\n",
    "mydict=dict(zip(a,b))\n",
    "print(\"dictionary is= \",mydict )\n",
    "ascending=dict(sorted(mydict.items()))\n",
    "print(\"in ascending order\",ascending)\n",
    "descending=dict(sorted(mydict.items(),reverse=True))\n",
    "print(\"in descending order\",descending)\n",
    "      "
   ]
  },
  {
   "cell_type": "code",
   "execution_count": 11,
   "id": "1571ab78-e6a0-495f-be7f-b3d440be6f11",
   "metadata": {},
   "outputs": [
    {
     "name": "stdin",
     "output_type": "stream",
     "text": [
      "enter 3 students name : mubashir,omar,abin\n",
      "enter 3 roll number: 9,6,3\n"
     ]
    },
    {
     "name": "stdout",
     "output_type": "stream",
     "text": [
      "dictionary: {'mubashir': '9', 'omar': '6', 'abin': '3'}\n"
     ]
    },
    {
     "name": "stdin",
     "output_type": "stream",
     "text": [
      "enter 2 students name : nihad,geroge\n",
      "enter 2 roll number: 9,6\n"
     ]
    },
    {
     "name": "stdout",
     "output_type": "stream",
     "text": [
      "dictionary: {'nihad': '9', 'geroge': '6'}\n",
      "merge 2 dictionaries {'mubashir': '9', 'omar': '6', 'abin': '3', 'nihad': '9', 'geroge': '6'}\n"
     ]
    }
   ],
   "source": [
    "#accept 2 dictionaries merge 2 dictionaries and display it\n",
    "dict1=input(\"enter 3 students name :\").split(\",\")\n",
    "dict2=input(\"enter 3 roll number:\").split(\",\")\n",
    "my_dict=dict(zip(dict1,dict2))\n",
    "print(\"dictionary:\",my_dict)\n",
    "dict3=input(\"enter 2 students name :\").split(\",\")\n",
    "dict4=input(\"enter 2 roll number:\").split(\",\")\n",
    "my_dict1=dict(zip(dict3,dict4))\n",
    "print(\"dictionary:\",my_dict1)\n",
    "my_dict.update(my_dict1)\n",
    "print(\"merge 2 dictionaries\",my_dict)"
   ]
  },
  {
   "cell_type": "code",
   "execution_count": null,
   "id": "4e2713ad-3ccf-40ce-b6c7-f2700982dbd6",
   "metadata": {},
   "outputs": [],
   "source": []
  }
 ],
 "metadata": {
  "kernelspec": {
   "display_name": "Python 3 (ipykernel)",
   "language": "python",
   "name": "python3"
  },
  "language_info": {
   "codemirror_mode": {
    "name": "ipython",
    "version": 3
   },
   "file_extension": ".py",
   "mimetype": "text/x-python",
   "name": "python",
   "nbconvert_exporter": "python",
   "pygments_lexer": "ipython3",
   "version": "3.11.5"
  }
 },
 "nbformat": 4,
 "nbformat_minor": 5
}
